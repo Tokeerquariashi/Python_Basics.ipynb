{
  "nbformat": 4,
  "nbformat_minor": 0,
  "metadata": {
    "colab": {
      "provenance": []
    },
    "kernelspec": {
      "name": "python3",
      "display_name": "Python 3"
    },
    "language_info": {
      "name": "python"
    }
  },
  "cells": [
    {
      "cell_type": "code",
      "execution_count": 1,
      "metadata": {
        "id": "ztlDIQBTDJWG",
        "colab": {
          "base_uri": "https://localhost:8080/"
        },
        "outputId": "649753fb-fcda-4a45-bc2f-a3c150768080"
      },
      "outputs": [
        {
          "output_type": "stream",
          "name": "stdout",
          "text": [
            "x: 10\n",
            "y: 5\n"
          ]
        }
      ],
      "source": [
        "#TOPIC: Python Basics Variable\n",
        "#Q1. Declare two variables, `x` and `y`, and assign them integer values. Swap the values of these variables without using any temporary variable.\n",
        "#Code\n",
        "x = 5\n",
        "y = 10\n",
        "\n",
        "x, y = y, x  # Swapping values\n",
        "\n",
        "print(\"x:\", x)\n",
        "print(\"y:\", y)"
      ]
    },
    {
      "cell_type": "code",
      "source": [
        "#Q2. Create a program that calculates the area of a rectangle. Take the length and width as inputs from the user and store them in variables. Calculate and display the area.\n",
        "#Code\n",
        "# Taking user input for length and width\n",
        "length = float(input(\"Enter the length of the rectangle: \"))\n",
        "width = float(input(\"Enter the width of the rectangle: \"))\n",
        "\n",
        "# Calculating the area\n",
        "area = length * width\n",
        "\n",
        "# Displaying the result\n",
        "print(\"The area of the rectangle is:\", area)\n"
      ],
      "metadata": {
        "colab": {
          "base_uri": "https://localhost:8080/"
        },
        "id": "W4IOM25GDuqt",
        "outputId": "59b1e388-789c-4841-b9d6-8fa7975390eb"
      },
      "execution_count": 2,
      "outputs": [
        {
          "output_type": "stream",
          "name": "stdout",
          "text": [
            "Enter the length of the rectangle: 5\n",
            "Enter the width of the rectangle: 10\n",
            "The area of the rectangle is: 50.0\n"
          ]
        }
      ]
    },
    {
      "cell_type": "code",
      "source": [
        "#Q3. Write a Python program that converts temperatures from Celsius to Fahrenheit. Take the temperature in Celsius as input, store it in a variable, convert it to Fahrenheit, and display the result.\n",
        "#Code\n",
        "# Taking user input for temperature in Celsius\n",
        "celsius = float(input(\"Enter temperature in Celsius: \"))\n",
        "\n",
        "# Converting to Fahrenheit using the formula\n",
        "fahrenheit = (celsius * 9/5) + 32\n",
        "\n",
        "# Displaying the result\n",
        "print(f\"{celsius}°C is equal to {fahrenheit}°F\")\n"
      ],
      "metadata": {
        "colab": {
          "base_uri": "https://localhost:8080/"
        },
        "id": "7gVoWC0gEE1U",
        "outputId": "ecb89029-daf3-44b4-ddf3-10000f0b23d1"
      },
      "execution_count": 3,
      "outputs": [
        {
          "output_type": "stream",
          "name": "stdout",
          "text": [
            "Enter temperature in Celsius: 25\n",
            "25.0°C is equal to 77.0°F\n"
          ]
        }
      ]
    },
    {
      "cell_type": "code",
      "source": [
        "#TOPIC: String Based Questions"
      ],
      "metadata": {
        "id": "hUHwLKH2EUFy"
      },
      "execution_count": null,
      "outputs": []
    },
    {
      "cell_type": "code",
      "source": [
        "#Q1. Write a Python program that takes a string as input and prints the length of the string.\n",
        "#Code\n",
        "# Taking user input\n",
        "user_string = input(\"Enter a string: \")\n",
        "\n",
        "# Calculating the length of the string\n",
        "length = len(user_string)\n",
        "\n",
        "# Displaying the result\n",
        "print(\"The length of the string is:\", length)\n"
      ],
      "metadata": {
        "colab": {
          "base_uri": "https://localhost:8080/"
        },
        "id": "UsbZKtvTEYqj",
        "outputId": "22d1840d-7a61-4a5a-f923-ac72a77675b0"
      },
      "execution_count": 4,
      "outputs": [
        {
          "output_type": "stream",
          "name": "stdout",
          "text": [
            "Enter a string: Hello, world!\n",
            "The length of the string is: 13\n"
          ]
        }
      ]
    },
    {
      "cell_type": "code",
      "source": [
        "#Q2. Create a program that takes a sentence from the user and counts the number of vowels (a, e, i, o, u) in the string.\n",
        "#Code\n",
        "# Taking user input\n",
        "sentence = input(\"Enter a sentence: \")\n",
        "\n",
        "# Defining vowels\n",
        "vowels = \"aeiouAEIOU\"\n",
        "\n",
        "# Counting vowels\n",
        "vowel_count = sum(1 for char in sentence if char in vowels)\n",
        "\n",
        "# Displaying the result\n",
        "print(\"The number of vowels in the sentence is:\", vowel_count)\n"
      ],
      "metadata": {
        "colab": {
          "base_uri": "https://localhost:8080/"
        },
        "id": "W8wWLdohEoWK",
        "outputId": "a541c7df-fc5b-451a-a189-444d65966c49"
      },
      "execution_count": 5,
      "outputs": [
        {
          "output_type": "stream",
          "name": "stdout",
          "text": [
            "Enter a sentence: Hello, how are you?\n",
            "The number of vowels in the sentence is: 7\n"
          ]
        }
      ]
    },
    {
      "cell_type": "code",
      "source": [
        "#Q3. Given a string, reverse the order of characters using string slicing and print the reversed string.\n",
        "#Code\n",
        "# Taking user input\n",
        "user_string = input(\"Enter a string: \")\n",
        "\n",
        "# Reversing the string using slicing\n",
        "reversed_string = user_string[::-1]\n",
        "\n",
        "# Displaying the result\n",
        "print(\"Reversed string:\", reversed_string)\n"
      ],
      "metadata": {
        "colab": {
          "base_uri": "https://localhost:8080/"
        },
        "id": "lIIUa3wCE126",
        "outputId": "e28b7dfd-493d-40ae-f00e-40954bb1acc9"
      },
      "execution_count": 6,
      "outputs": [
        {
          "output_type": "stream",
          "name": "stdout",
          "text": [
            "Enter a string: Python\n",
            "Reversed string: nohtyP\n"
          ]
        }
      ]
    },
    {
      "cell_type": "code",
      "source": [
        "#Q4. Write a program that takes a string as input and checks if it is a palindrome (reads the same forwards and backwards).\n",
        "#Code\n",
        "# Taking user input\n",
        "user_string = input(\"Enter a string: \")\n",
        "\n",
        "# Converting to lowercase to ensure case insensitivity\n",
        "user_string = user_string.lower()\n",
        "\n",
        "# Checking if the string is equal to its reverse\n",
        "if user_string == user_string[::-1]:\n",
        "    print(\"The string is a palindrome.\")\n",
        "else:\n",
        "    print(\"The string is not a palindrome.\")\n"
      ],
      "metadata": {
        "colab": {
          "base_uri": "https://localhost:8080/"
        },
        "id": "eHNUSFyBFDlR",
        "outputId": "7c106b86-2214-4e56-e551-9e9450e5aa52"
      },
      "execution_count": 7,
      "outputs": [
        {
          "output_type": "stream",
          "name": "stdout",
          "text": [
            "Enter a string: madam\n",
            "The string is a palindrome.\n"
          ]
        }
      ]
    },
    {
      "cell_type": "code",
      "source": [
        "#Q5. Create a program that takes a string as input and removes all the spaces from it. Print the modified string without spaces.\n",
        "#Code\n",
        "# Taking user input\n",
        "user_string = input(\"Enter a string: \")\n",
        "\n",
        "# Removing all spaces\n",
        "modified_string = user_string.replace(\" \", \"\")\n",
        "\n",
        "# Displaying the result\n",
        "print(\"String without spaces:\", modified_string)\n"
      ],
      "metadata": {
        "colab": {
          "base_uri": "https://localhost:8080/"
        },
        "id": "DAbJ3RqdFQKh",
        "outputId": "bcfed4cb-ba00-4371-e0f1-f3b039a6b78b"
      },
      "execution_count": 8,
      "outputs": [
        {
          "output_type": "stream",
          "name": "stdout",
          "text": [
            "Enter a string: Hello World, how are you?\n",
            "String without spaces: HelloWorld,howareyou?\n"
          ]
        }
      ]
    }
  ]
}